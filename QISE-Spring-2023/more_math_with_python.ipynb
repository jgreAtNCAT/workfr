{
 "cells": [
  {
   "cell_type": "code",
   "execution_count": null,
   "id": "d8b16427-f80b-447d-a617-2cb9f0f8937e",
   "metadata": {},
   "outputs": [],
   "source": [
    "# making matrices and vectors with numpy\n",
    "import numpy as np\n",
    "\n",
    "# row basis vectors for 3-dimensions \n",
    "b1 = np.array([1,0,0])\n",
    "b2 = np.array([0,1,0])\n",
    "b3 = np.array([0,0,1])"
   ]
  },
  {
   "cell_type": "code",
   "execution_count": null,
   "id": "25b5517c-b22e-45e6-983a-360d3bf27bb5",
   "metadata": {},
   "outputs": [],
   "source": [
    "# shape gives us a pair (m,n), where m is the number of rows \n",
    "\n",
    "print(b1.shape)\n",
    "print(b2.shape)\n",
    "print(b3.shape)"
   ]
  },
  {
   "cell_type": "code",
   "execution_count": null,
   "id": "18d77856-e48d-4186-be31-1ebf8558113c",
   "metadata": {},
   "outputs": [],
   "source": [
    "# This output may not be quite what we expected. We may have though these should each be row vectors and so the shape = (1,3)\n",
    "# We can actually explicitly set the shape of a matrix/vector via the following\n",
    "\n",
    "b1.shape = (1,3)\n",
    "print(b1)"
   ]
  },
  {
   "cell_type": "code",
   "execution_count": null,
   "id": "76ee58f5-43be-4fd3-9051-811d2b50ba64",
   "metadata": {},
   "outputs": [],
   "source": [
    "# Now it's clear that we really needed an extra [] when we define the vectors. What we really wanted is...\n",
    "# row basis vectors for 3-dimensions \n",
    "\n",
    "b1 = np.array([[1,0,0]])\n",
    "b2 = np.array([[0,1,0]])\n",
    "b3 = np.array([[0,0,1]])\n",
    "\n",
    "# shape gives us a pair (m,n), where m is the number of rows \n",
    "print(b1.shape)\n",
    "print(b2.shape)\n",
    "print(b3.shape)"
   ]
  },
  {
   "cell_type": "code",
   "execution_count": null,
   "id": "37d26699-8766-4a6a-ba75-b2981edfa5fe",
   "metadata": {},
   "outputs": [],
   "source": [
    "# Let's recall how we can turn row vectors into column vectors using the transpose.\n",
    "\n",
    "print(b1.T)\n",
    "print(b1.T.shape)"
   ]
  },
  {
   "cell_type": "code",
   "execution_count": null,
   "id": "d0466b60-9366-467b-b887-0b63d34340c6",
   "metadata": {},
   "outputs": [],
   "source": [
    "# Indeed, that worked. Now, we should be able to multiple a row vector and a column vector to get a scalar.\n",
    "# Put the row vector on the left and the column vector on the right...\n",
    "\n",
    "b1*(b1.T)"
   ]
  },
  {
   "cell_type": "code",
   "execution_count": null,
   "id": "f2096f4d-6c75-47a4-9cf6-c11e82f26f85",
   "metadata": {},
   "outputs": [],
   "source": [
    "# Oh no! That's definitely not what we wanted. In fact, what we just did is something called the outer product.\n",
    "# To be more precise in telling python what we want, we use the np.matmul() function. This performs multiplication like we've previously described.\n",
    "\n",
    "np.matmul(b1,b1.T)"
   ]
  },
  {
   "cell_type": "code",
   "execution_count": null,
   "id": "0a98465a-f6e1-450d-b11a-e090ec4cb0e6",
   "metadata": {},
   "outputs": [],
   "source": [
    "# Great! That's what we expected. What happens if we flip the order of b1 and b1.T?\n",
    "\n",
    "np.matmul(b1.T,b1)"
   ]
  },
  {
   "cell_type": "code",
   "execution_count": null,
   "id": "ce0fda40-9bb7-4935-a765-976e36773ba5",
   "metadata": {},
   "outputs": [],
   "source": [
    "# We get the outer product I mentioned before. We don't need to worry about the outer product for the moment. Just know that you need to be careful about ordering.\n",
    "# You could also just use the np.dot() function, but I prefer matmul.\n",
    "\n",
    "np.dot(b1,b1.T)"
   ]
  },
  {
   "cell_type": "code",
   "execution_count": null,
   "id": "b982fa36-2f57-4b71-b19b-e4f2a19bbecb",
   "metadata": {},
   "outputs": [],
   "source": [
    "# Let's also briefly review how to take the conjugate of a vector/matrix.\n",
    "\n",
    "A = np.array([[1,0,1],[-1.j,1,0],[0,0,1.j]])\n",
    "print(A)"
   ]
  },
  {
   "cell_type": "code",
   "execution_count": null,
   "id": "e9ee7a83-7881-43e4-8aaa-3add301b5fe4",
   "metadata": {},
   "outputs": [],
   "source": [
    "np.conj(A)"
   ]
  },
  {
   "cell_type": "code",
   "execution_count": null,
   "id": "c5850dd0-cb01-4539-9420-f495c6b845bf",
   "metadata": {},
   "outputs": [],
   "source": [
    "A.conj()"
   ]
  },
  {
   "cell_type": "code",
   "execution_count": null,
   "id": "f09bdea3-bc02-404d-b8ce-fa03191a8c81",
   "metadata": {},
   "outputs": [],
   "source": [
    "# Both ways behave the same...\n",
    "# To take the Hermitian conjugate (that cross symbol) we do a transpose and conjugate \n",
    "\n",
    "A.conj().T"
   ]
  },
  {
   "cell_type": "code",
   "execution_count": null,
   "id": "9b7a9a4e-9c01-413b-96b1-577e7b44f728",
   "metadata": {},
   "outputs": [],
   "source": [
    "# Recall that a Hermitian matrix is one that is equal to its Hermitian conjugate.\n",
    "# Let's test A two ways: boolean test, subtraction\n",
    "\n",
    "print(A-A.conj().T)\n",
    "print(A==A.conj().T)"
   ]
  },
  {
   "cell_type": "code",
   "execution_count": null,
   "id": "46a4688a-5d0a-4aff-bbe3-03874d68a5c3",
   "metadata": {},
   "outputs": [],
   "source": [
    "# Nope, it's not Hermitian. Let's try another matrix.\n",
    "\n",
    "B = np.array([[0,-4.j],[4.j,0]])\n",
    "print(B)"
   ]
  },
  {
   "cell_type": "code",
   "execution_count": null,
   "id": "36f9c8e3-52cd-4c18-bea0-2d7cfdc02645",
   "metadata": {},
   "outputs": [],
   "source": [
    "print(B-B.conj().T)\n",
    "print(B==B.conj().T)"
   ]
  },
  {
   "cell_type": "code",
   "execution_count": null,
   "id": "c9807e56-971a-4f4d-8e63-722409714e76",
   "metadata": {},
   "outputs": [],
   "source": [
    "# This one is Hermitian!\n",
    "# Let's now also recall what is meant by unitary - a matrix who's Hermitian conjugate is its own inverse. Check to see if B is also unitary.\n",
    "\n",
    "np.matmul(B,B.conj().T)"
   ]
  },
  {
   "cell_type": "code",
   "execution_count": null,
   "id": "17c600e9-16a5-4223-9ac4-fbcbaa90c579",
   "metadata": {},
   "outputs": [],
   "source": [
    "# Nope. That didn't give us the identity matrix. It looks like we could change B a bit to make it unitary though...\n",
    "\n",
    "unitB = 1/4*B\n",
    "print(unitB)"
   ]
  },
  {
   "cell_type": "code",
   "execution_count": null,
   "id": "aa391343-ef37-46c4-a5b8-a0bc6b488cf5",
   "metadata": {},
   "outputs": [],
   "source": [
    "np.matmul(unitB,unitB.conj().T)==np.identity(2)"
   ]
  },
  {
   "cell_type": "code",
   "execution_count": null,
   "id": "adf6ddec-3c4e-4e73-8fe4-27a8bc343787",
   "metadata": {},
   "outputs": [],
   "source": [
    "# Python also makes it easy to find eigenvalues/eigenvectors of matrices. Let's show how.\n",
    "\n",
    "from numpy import linalg as LA\n",
    "\n",
    "w, v = LA.eig(np.diag((1, 2, 3)))"
   ]
  },
  {
   "cell_type": "code",
   "execution_count": null,
   "id": "2828c23d-49e1-4c0d-9e99-8135cdbab283",
   "metadata": {},
   "outputs": [],
   "source": [
    "print(w)\n",
    "print(v)"
   ]
  },
  {
   "cell_type": "code",
   "execution_count": null,
   "id": "fe4070b3-d8f7-441a-8a8f-18cbc1325b4b",
   "metadata": {},
   "outputs": [],
   "source": [
    "# Let's look at a particularly important set of matrices - the Pauli matrices. These are the same thing as the X, Y, and Z gates.\n",
    "\n",
    "X = np.array([[0,1],[1,0]])\n",
    "Y = np.array([[0,-1.j],[1.j,0]])\n",
    "Z = np.array([[1,0],[0,-1]])"
   ]
  },
  {
   "cell_type": "code",
   "execution_count": null,
   "id": "1e715e7a-ada5-42fa-b5af-b981a5aa9dfd",
   "metadata": {},
   "outputs": [],
   "source": [
    "# Let's prove that they are both unitary/Hermitian and then solve their corresponding eigensystems\n",
    "\n",
    "def test_hermitian(M):\n",
    "    print(M-M.conj().T)\n",
    "    \n",
    "def test_unitary(M):\n",
    "    print(np.matmul(M,M.conj().T))"
   ]
  },
  {
   "cell_type": "code",
   "execution_count": null,
   "id": "9c78d2fe-156c-40b5-8dcc-58b5b2b8e0b8",
   "metadata": {},
   "outputs": [],
   "source": [
    "test_hermitian(X)\n",
    "test_hermitian(Y)\n",
    "test_hermitian(Z)"
   ]
  },
  {
   "cell_type": "code",
   "execution_count": null,
   "id": "c17cf002-45e8-41ff-abc3-06ae3726e92a",
   "metadata": {},
   "outputs": [],
   "source": [
    "test_unitary(X)\n",
    "test_unitary(Y)\n",
    "test_unitary(Z)"
   ]
  },
  {
   "cell_type": "code",
   "execution_count": null,
   "id": "5ec9f736-dce8-4a82-b2f5-7a731334e511",
   "metadata": {},
   "outputs": [],
   "source": [
    "# Very easy to prove they are both Hermitian and unitary.\n",
    "# Now solve their eigensystems\n",
    "\n",
    "w, v = LA.eig(X)\n",
    "print(w)\n",
    "print(v)"
   ]
  },
  {
   "cell_type": "code",
   "execution_count": null,
   "id": "4c4acb5e-3dff-4665-8733-289861edcc5b",
   "metadata": {},
   "outputs": [],
   "source": [
    "1/np.sqrt(2)"
   ]
  },
  {
   "cell_type": "code",
   "execution_count": null,
   "id": "9e85db87-58b9-4594-b977-575f8f6a6c51",
   "metadata": {},
   "outputs": [],
   "source": [
    "w, v = LA.eig(Y)\n",
    "print(w)\n",
    "print(v)"
   ]
  },
  {
   "cell_type": "code",
   "execution_count": null,
   "id": "7ad48467-19ea-4f24-b658-8ed9094cddb1",
   "metadata": {},
   "outputs": [],
   "source": [
    "w, v = LA.eig(Z)\n",
    "print(w)\n",
    "print(v)"
   ]
  },
  {
   "cell_type": "code",
   "execution_count": null,
   "id": "2e8fc0be-f7b7-4d58-87f8-4874c5f63917",
   "metadata": {},
   "outputs": [],
   "source": [
    "# Let's show how to act on single-qubit states with these single-qubit gates.\n",
    "# We know that an X-gate applied to an up state produced a down state. \n",
    "\n",
    "psi = np.array([[1,0]])\n",
    "psi.shape = (2,1)\n",
    "print(psi)"
   ]
  },
  {
   "cell_type": "code",
   "execution_count": null,
   "id": "279c5c2c-88e5-4ac1-8f30-1c9eeaad6467",
   "metadata": {},
   "outputs": [],
   "source": [
    "psi = np.matmul(X,psi)\n",
    "print(psi)"
   ]
  },
  {
   "cell_type": "code",
   "execution_count": null,
   "id": "5d3095d6-572c-4029-ad63-72c8472ae53d",
   "metadata": {},
   "outputs": [],
   "source": [
    "# Now let's do this in Qiskit\n",
    "\n",
    "from qiskit import QuantumCircuit #import qiskit\n",
    "\n",
    "circ = QuantumCircuit(1,1)  #create QuantumCircuit object\n",
    "circ.draw(output='mpl')   #visualize the circuit"
   ]
  },
  {
   "cell_type": "code",
   "execution_count": null,
   "id": "29a91c05-c0ba-437b-ae82-a7592355a41e",
   "metadata": {},
   "outputs": [],
   "source": [
    "circ.x(0)  #add Hadamard gate to circuit\n",
    "circ.draw(output='mpl')   #visualize the circuit"
   ]
  },
  {
   "cell_type": "code",
   "execution_count": null,
   "id": "a7a271a8-5cdd-4aa2-b556-53d4c884312a",
   "metadata": {},
   "outputs": [],
   "source": [
    "circ.measure(0,0); #add a measurement to the circuit\n",
    "circ.draw(output='mpl')   #visualize the circuit"
   ]
  },
  {
   "cell_type": "code",
   "execution_count": null,
   "id": "d234d345-f2fa-4aea-a40d-550924ddf288",
   "metadata": {},
   "outputs": [],
   "source": [
    "from qiskit import Aer, execute # Import Aer and execute\n",
    "backend_sim = Aer.get_backend('qasm_simulator') #create backend object"
   ]
  },
  {
   "cell_type": "code",
   "execution_count": null,
   "id": "338ea2a5-04aa-4905-acac-b85ed20cfc84",
   "metadata": {},
   "outputs": [],
   "source": [
    "sim = execute(circ, backend_sim, shots=1000) #run the simulation"
   ]
  },
  {
   "cell_type": "code",
   "execution_count": null,
   "id": "7fe8027c-2fda-4d7a-ad6d-ac40be85d0f5",
   "metadata": {},
   "outputs": [],
   "source": [
    "sim_result = sim.result() #get result object\n",
    "counts = sim_result.get_counts(circ) #obtain the counts from the result object\n",
    "print(counts)"
   ]
  },
  {
   "cell_type": "code",
   "execution_count": null,
   "id": "863cf587-f44c-4c5c-8f53-5b2fb9998416",
   "metadata": {},
   "outputs": [],
   "source": [
    "# Do more comparisons of by-hand matrix multiplication vs. python matrix multiplication vs. qiskit simulation as time allows"
   ]
  }
 ],
 "metadata": {
  "kernelspec": {
   "display_name": "Python 3 [Default]",
   "language": "python",
   "name": "python3"
  },
  "language_info": {
   "codemirror_mode": {
    "name": "ipython",
    "version": 3
   },
   "file_extension": ".py",
   "mimetype": "text/x-python",
   "name": "python",
   "nbconvert_exporter": "python",
   "pygments_lexer": "ipython3",
   "version": "3.9.10"
  }
 },
 "nbformat": 4,
 "nbformat_minor": 5
}
