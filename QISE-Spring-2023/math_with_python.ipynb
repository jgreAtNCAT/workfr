{
 "cells": [
  {
   "cell_type": "markdown",
   "id": "18b26c0c-7ab6-4140-9a4c-5a614e23dba8",
   "metadata": {},
   "source": [
    "# Complex number cheat sheet"
   ]
  },
  {
   "cell_type": "code",
   "execution_count": 4,
   "id": "6a36c64f-7c84-4019-b58a-fcd85df7da90",
   "metadata": {},
   "outputs": [],
   "source": [
    "# complex numbers are defined as:\n",
    "c1=3+4j\n",
    "c2=4+5j # Note that j is represents the imaginary number instead of i"
   ]
  },
  {
   "cell_type": "code",
   "execution_count": 5,
   "id": "3d11b5a3-7b89-4e35-a20b-13bcee2e7928",
   "metadata": {},
   "outputs": [
    {
     "name": "stdout",
     "output_type": "stream",
     "text": [
      "c1+c2= (4+5j)\n",
      "c1-c2= (-1-1j)\n",
      "c1*c2= (-8+31j)\n",
      "c1/c2= (0.7804878048780489+0.02439024390243905j)\n"
     ]
    }
   ],
   "source": [
    "# Addition:\n",
    "\n",
    "c3=c1+c2\n",
    "print('c1+c2=',c2)\n",
    "\n",
    "# Subtraction\n",
    "c4=c1-c2\n",
    "print('c1-c2=',c4)\n",
    "\n",
    "#Multiplication\n",
    "c5=c1*c2\n",
    "print('c1*c2=',c5)\n",
    "\n",
    "# Division\n",
    "\n",
    "c6=c1/c2\n",
    "print('c1/c2=',c6)\n"
   ]
  },
  {
   "cell_type": "code",
   "execution_count": 6,
   "id": "1c3ccfb0-8551-4ccf-bfb7-d41903c8841d",
   "metadata": {},
   "outputs": [
    {
     "name": "stdout",
     "output_type": "stream",
     "text": [
      "conjugate of c1 is: (3-4j)\n",
      "real, and imaginary parts of c1 are: 3.0 4.0\n",
      "The magnitude of c1 is given by: 5.0\n"
     ]
    }
   ],
   "source": [
    "# Conjugate of complex number is defined as:\n",
    "c1_conj=c1.conjugate()\n",
    "print('conjugate of c1 is:', c1_conj)\n",
    "\n",
    "# accessing real and imaginary part of the complex numbers:\n",
    "c1_real = c1.real\n",
    "c1_imag = c1.imag\n",
    "c1_mag = abs(c1)\n",
    "print('real, and imaginary parts of c1 are:',c1_real,c1_imag)\n",
    "print('The magnitude of c1 is given by:', c1_mag)"
   ]
  },
  {
   "cell_type": "code",
   "execution_count": 8,
   "id": "8e97682c-3cec-4eeb-bfdf-a5b7b75b1059",
   "metadata": {},
   "outputs": [
    {
     "data": {
      "text/plain": [
       "5.0"
      ]
     },
     "execution_count": 8,
     "metadata": {},
     "output_type": "execute_result"
    }
   ],
   "source": [
    "# for getting the polar form of a complex number\n",
    "import cmath\n",
    "import numpy as np\n",
    "cmath.polar(c1)\n",
    "np.angle(c1)\n",
    "np.abs(c1)"
   ]
  },
  {
   "cell_type": "code",
   "execution_count": 9,
   "id": "dec317f2-6391-4825-95eb-25b1e5d33069",
   "metadata": {},
   "outputs": [
    {
     "data": {
      "image/png": "[encoded data removed]",
      "text/plain": [
       "<Figure size 432x288 with 1 Axes>"
      ]
     },
     "metadata": {
      "needs_background": "light"
     },
     "output_type": "display_data"
    }
   ],
   "source": [
    "# Plotting complex numbers with matplotlib\n",
    "import matplotlib.pyplot as plt\n",
    "\n",
    "# create data of complex numbers\n",
    "data = [1+2j, -1+4j, 4+3j, -4, 2-1j, 3+9j, -2+6j, 5]\n",
    "\n",
    "# extract real part\n",
    "x = [ele.real for ele in data]\n",
    "# extract imaginary part\n",
    "y = [ele.imag for ele in data]\n",
    "\n",
    "# plot the complex numbers\n",
    "plt.scatter(x, y)\n",
    "plt.ylabel('Imaginary')\n",
    "plt.xlabel('Real')\n",
    "plt.show()\n",
    "\n",
    "\n"
   ]
  },
  {
   "cell_type": "code",
   "execution_count": 10,
   "id": "51142043-fc14-417f-b157-d0e783857fe1",
   "metadata": {},
   "outputs": [
    {
     "data": {
      "image/png": "[encoded data removed]",
      "text/plain": [
       "<Figure size 432x288 with 1 Axes>"
      ]
     },
     "metadata": {
      "needs_background": "light"
     },
     "output_type": "display_data"
    }
   ],
   "source": [
    "# Plotting complex numbers with matplotlib and numpy\n",
    "import matplotlib.pyplot as plt\n",
    "import numpy as np\n",
    "\n",
    "# create data of complex numbers\n",
    "data = np.array([1+2j, 2-4j, -2j, -4, 4+1j, 3+8j, -2-6j, 5])\n",
    "\n",
    "# extract real part using numpy array\n",
    "x = data.real\n",
    "# extract imaginary part using numpy array\n",
    "y = data.imag\n",
    "\n",
    "# plot the complex numbers\n",
    "plt.plot(x, y, 'g*')\n",
    "plt.ylabel('Imaginary')\n",
    "plt.xlabel('Real')\n",
    "plt.show()\n"
   ]
  },
  {
   "cell_type": "markdown",
   "id": "697ff171-cacb-4447-a23a-e63c6c20dba7",
   "metadata": {},
   "source": [
    "# Numpy intro"
   ]
  },
  {
   "cell_type": "code",
   "execution_count": 15,
   "id": "53b40f38-dc1d-4918-bea7-336dc252ae05",
   "metadata": {},
   "outputs": [
    {
     "data": {
      "text/plain": [
       "6"
      ]
     },
     "execution_count": 15,
     "metadata": {},
     "output_type": "execute_result"
    }
   ],
   "source": [
    "# defining arrays in numpy\n",
    "import numpy as np\n",
    "V = np.array([1,-1,2])\n",
    "M = np.array([[1,-1,2],[3,2,0]])\n",
    "# size and shape of arrays in numpy.\n",
    "M.size\n",
    "# A.shape"
   ]
  },
  {
   "cell_type": "code",
   "execution_count": 19,
   "id": "301d86b0-eeb7-421d-95c9-e819ea2e70df",
   "metadata": {},
   "outputs": [
    {
     "name": "stdout",
     "output_type": "stream",
     "text": [
      "1\n",
      "-1\n",
      "[-1  2]\n",
      "2\n"
     ]
    }
   ],
   "source": [
    "# accessing data from the array\n",
    "print(V[0])\n",
    "print(M[0][1])\n",
    "# accessing a few entries\n",
    "print(V[1:])\n",
    "print(V[-1])"
   ]
  },
  {
   "cell_type": "code",
   "execution_count": 25,
   "id": "ae2cabe0-8e58-4f3d-bf29-83ec982c4485",
   "metadata": {},
   "outputs": [
    {
     "data": {
      "text/plain": [
       "array([ 0.        ,  3.33333333,  6.66666667, 10.        ])"
      ]
     },
     "execution_count": 25,
     "metadata": {},
     "output_type": "execute_result"
    }
   ],
   "source": [
    "# linspace\n",
    "np.linspace(0, 10, num=4)"
   ]
  },
  {
   "cell_type": "code",
   "execution_count": 24,
   "id": "ca282162-adbb-4f34-9976-bedfca8f9ae5",
   "metadata": {},
   "outputs": [
    {
     "name": "stdout",
     "output_type": "stream",
     "text": [
      "[[0.92292341 0.91291635 0.44416869 0.27150888]\n",
      " [0.61266051 0.54304331 0.07177641 0.8873816 ]\n",
      " [0.93216632 0.76969598 0.4766777  0.3100884 ]\n",
      " [0.02767949 0.26624872 0.60099479 0.14045751]]\n"
     ]
    }
   ],
   "source": [
    "# Random\n",
    "ar = np.random.rand(4,4)\n",
    "print(ar)"
   ]
  },
  {
   "cell_type": "code",
   "execution_count": 2,
   "id": "8c7cb498-e36e-4650-8b4d-b79aaadd16e7",
   "metadata": {},
   "outputs": [
    {
     "name": "stdout",
     "output_type": "stream",
     "text": [
      "[[19 22]\n",
      " [43 50]]\n",
      "70\n"
     ]
    }
   ],
   "source": [
    "# dot products\n",
    "import numpy as np  \n",
    "arr1 = np.array([[1,2],[3,4]])  \n",
    "arr2 = np.array([[5,6],[7,8]])  \n",
    "print(np.dot(arr1,arr2))  \n",
    "print(np.vdot(arr1,arr2))"
   ]
  },
  {
   "cell_type": "code",
   "execution_count": null,
   "id": "bd005975-310a-4acd-8787-ac3bd4a845b5",
   "metadata": {},
   "outputs": [],
   "source": [
    "import numpy as np  \n",
    "a = np.array([4,5,6])  \n",
    "b = np.array([7,8,9])  \n",
    "#matrix multiplication function\n",
    "i=np.matmul(a,b)\n",
    "print(i)"
   ]
  },
  {
   "cell_type": "code",
   "execution_count": null,
   "id": "686d6c9b-b45d-4ea1-9b00-80b82f413cef",
   "metadata": {},
   "outputs": [],
   "source": [
    "# Trace of a matrix/array\n",
    "import numpy as np  \n",
    "a = np.array([[1,2],[3,4]])  \n",
    "print(np.trace(a))"
   ]
  },
  {
   "cell_type": "code",
   "execution_count": 22,
   "id": "954494ef-134a-4fd3-834a-ce72925e32de",
   "metadata": {},
   "outputs": [
    {
     "name": "stdout",
     "output_type": "stream",
     "text": [
      "50\n",
      "[[ 7  8  9]\n",
      " [14 16 18]\n",
      " [21 24 27]]\n"
     ]
    }
   ],
   "source": [
    "import numpy as np  \n",
    "a = np.array([1,2,3])  \n",
    "b = np.array([7,8,9])  \n",
    "#inner function\n",
    "i=np.inner(a,b)\n",
    "print(i)\n",
    "#outer function\n",
    "o= np.outer(a,b)  \n",
    "print(o)    "
   ]
  }
 ],
 "metadata": {
  "kernelspec": {
   "display_name": "Python 3 [Default]",
   "language": "python",
   "name": "python3"
  },
  "language_info": {
   "codemirror_mode": {
    "name": "ipython",
    "version": 3
   },
   "file_extension": ".py",
   "mimetype": "text/x-python",
   "name": "python",
   "nbconvert_exporter": "python",
   "pygments_lexer": "ipython3",
   "version": "3.9.10"
  }
 },
 "nbformat": 4,
 "nbformat_minor": 5
}
